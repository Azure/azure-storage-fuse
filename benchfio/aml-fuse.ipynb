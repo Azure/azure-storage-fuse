{
  "cells": [
    {
      "cell_type": "code",
      "source": [
        "from azureml.core import Workspace, Datastore, Dataset\n",
        "import pandas as pd\n",
        "import os\n",
        "\n",
        "# Connect to Workspace and reference Dataset\n",
        "ws = Workspace.from_config()\n",
        "datastore = Datastore.get(ws, \"datamount1\")\n",
        "print(\"DataStore retreived\")\n",
        "\n",
        "dataset = Dataset.File.from_files([(datastore, \"/**\")])\n",
        "print(\"DataSet Created\")"
      ],
      "outputs": [
        {
          "output_type": "stream",
          "name": "stdout",
          "text": "DataStore retreived\nDataSet Created\n"
        }
      ],
      "execution_count": 68,
      "metadata": {
        "gather": {
          "logged": 1703585766894
        }
      }
    },
    {
      "cell_type": "code",
      "source": [
        "# enable block-based caching\n",
        "os.environ[\"DATASET_MOUNT_BLOCK_BASED_CACHE_ENABLED\"] = \"true\" \n",
        " # disable caching on disk\n",
        "os.environ[\"DATASET_MOUNT_BLOCK_FILE_CACHE_ENABLED\"] = \"false\"\n",
        "# disabling in-memory caching\n",
        "#os.environ[\"DATASET_MOUNT_MEMORY_CACHE_SIZE\"] = \"128\" \n",
        "# prefetch block count to be set to 80\n",
        "os.environ[\"DATASET_MOUNT_READ_BUFFER_BLOCK_COUNT\"] = \"80\""
      ],
      "outputs": [],
      "execution_count": 69,
      "metadata": {
        "jupyter": {
          "source_hidden": false,
          "outputs_hidden": false
        },
        "nteract": {
          "transient": {
            "deleting": false
          }
        },
        "gather": {
          "logged": 1703585767040
        }
      }
    },
    {
      "cell_type": "code",
      "source": [
        "# Create mountcontext and mount the dataset\n",
        "mount_ctx = dataset.mount()  \n",
        "mount_ctx.start()  \n",
        "print(\"Mount done\")"
      ],
      "outputs": [
        {
          "output_type": "stream",
          "name": "stderr",
          "text": "Message: Running rslex direct volume mount: RSLEX_DIRECT_VOLUME_MOUNT=None, RSLEX_DIRECT_VOLUME_WRITABLE_MOUNT=None, enable_rslex_mount=None\nPayload: {\"pid\": 3043687, \"source\": \"azureml.dataprep\", \"version\": \"4.11.3\", \"trace\": \"azureml|data|dataset_error_handling.py, line 66 in function _validate_has_data.\\nazureml|data|dataset_factory.py, line 906 in function from_files.\\nazureml|data|_loggerfactory.py, line 132 in function wrapper.\", \"subscription\": \"\", \"run_id\": \"\", \"resource_group\": \"\", \"workspace_name\": \"\", \"experiment_id\": \"\", \"location\": \"\", \"rslex_version\": \"2.18.3\"}\n"
        },
        {
          "output_type": "stream",
          "name": "stdout",
          "text": "Mount done\n"
        }
      ],
      "execution_count": 70,
      "metadata": {
        "jupyter": {
          "source_hidden": false,
          "outputs_hidden": false
        },
        "nteract": {
          "transient": {
            "deleting": false
          }
        },
        "gather": {
          "logged": 1703585767936
        }
      }
    },
    {
      "cell_type": "code",
      "source": [
        "# Get the mount point\n",
        "dataset_mount_folder = mount_ctx.mount_point\n",
        "print(\"Mounted at : \", dataset_mount_folder)"
      ],
      "outputs": [
        {
          "output_type": "stream",
          "name": "stdout",
          "text": "Mounted at :  /tmp/tmpd7vvlh9c\n"
        }
      ],
      "execution_count": 71,
      "metadata": {
        "jupyter": {
          "source_hidden": false,
          "outputs_hidden": false
        },
        "nteract": {
          "transient": {
            "deleting": false
          }
        },
        "gather": {
          "logged": 1703585768206
        }
      }
    },
    {
      "cell_type": "markdown",
      "source": [],
      "metadata": {
        "nteract": {
          "transient": {
            "deleting": false
          }
        }
      }
    },
    {
      "cell_type": "code",
      "source": [
        "# List the files in the mount point\n",
        "files = os.listdir(dataset_mount_folder)\n",
        "print(\"Listing files: \")\n",
        "print(files)"
      ],
      "outputs": [
        {
          "output_type": "stream",
          "name": "stdout",
          "text": "Listing files: \n['block_cache_10.data', 'block_cache_100.data', 'block_cache_1024.data', 'block_cache_10240.data', 'block_cache_102400.data', 'block_cache_4096.data', 'block_cache_50.data', 'block_cache_8.data', 'file_cache_10.data', 'file_cache_100.data', 'file_cache_1024.data', 'file_cache_10240.data', 'file_cache_102400.data', 'file_cache_4096.data', 'file_cache_50.data', 'file_cache_8.data']\n"
        }
      ],
      "execution_count": 72,
      "metadata": {
        "jupyter": {
          "source_hidden": false,
          "outputs_hidden": false
        },
        "nteract": {
          "transient": {
            "deleting": false
          }
        },
        "gather": {
          "logged": 1703585773906
        }
      }
    },
    {
      "cell_type": "code",
      "source": [
        "# Unmount the dataset from the instance\n",
        "mount_ctx.stop()"
      ],
      "outputs": [],
      "execution_count": 67,
      "metadata": {
        "jupyter": {
          "source_hidden": false,
          "outputs_hidden": false
        },
        "nteract": {
          "transient": {
            "deleting": false
          }
        },
        "gather": {
          "logged": 1703585750936
        }
      }
    }
  ],
  "metadata": {
    "kernelspec": {
      "name": "python310-sdkv2",
      "language": "python",
      "display_name": "Python 3.10 - SDK v2"
    },
    "language_info": {
      "name": "python",
      "version": "3.10.11",
      "mimetype": "text/x-python",
      "codemirror_mode": {
        "name": "ipython",
        "version": 3
      },
      "pygments_lexer": "ipython3",
      "nbconvert_exporter": "python",
      "file_extension": ".py"
    },
    "microsoft": {
      "ms_spell_check": {
        "ms_spell_check_language": "en"
      },
      "host": {
        "AzureML": {
          "notebookHasBeenCompleted": true
        }
      }
    },
    "kernel_info": {
      "name": "python310-sdkv2"
    },
    "nteract": {
      "version": "nteract-front-end@1.0.0"
    }
  },
  "nbformat": 4,
  "nbformat_minor": 2
}